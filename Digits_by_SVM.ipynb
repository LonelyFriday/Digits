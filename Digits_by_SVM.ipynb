{
  "nbformat": 4,
  "nbformat_minor": 0,
  "metadata": {
    "colab": {
      "name": "Digits_by_SVM.ipynb",
      "provenance": [],
      "collapsed_sections": [],
      "authorship_tag": "ABX9TyPQ+E2QsPfT7Wr35Nsz6AQV",
      "include_colab_link": true
    },
    "kernelspec": {
      "name": "python3",
      "display_name": "Python 3"
    }
  },
  "cells": [
    {
      "cell_type": "markdown",
      "metadata": {
        "id": "view-in-github",
        "colab_type": "text"
      },
      "source": [
        "<a href=\"https://colab.research.google.com/github/LonelyFriday/Digits_by_SVM/blob/main/Digits_by_SVM.ipynb\" target=\"_parent\"><img src=\"https://colab.research.google.com/assets/colab-badge.svg\" alt=\"Open In Colab\"/></a>"
      ]
    },
    {
      "cell_type": "code",
      "metadata": {
        "id": "YDpuLaDS_Qwk"
      },
      "source": [
        "import pandas as pd\r\n",
        "import numpy as np\r\n",
        "import matplotlib.pyplot as plt\r\n",
        "\r\n",
        "from sklearn.datasets import load_digits"
      ],
      "execution_count": 1,
      "outputs": []
    },
    {
      "cell_type": "markdown",
      "metadata": {
        "id": "bc5DNTtVOOON"
      },
      "source": [
        "# Digits Data"
      ]
    },
    {
      "cell_type": "code",
      "metadata": {
        "colab": {
          "base_uri": "https://localhost:8080/"
        },
        "id": "FiRmSLVP_mXz",
        "outputId": "62a8fd19-8da9-4c6f-e8f1-c3aeea3ff53a"
      },
      "source": [
        "data = load_digits()  ## load dataset\r\n",
        "data.keys()  ## keys"
      ],
      "execution_count": 2,
      "outputs": [
        {
          "output_type": "execute_result",
          "data": {
            "text/plain": [
              "dict_keys(['data', 'target', 'target_names', 'images', 'DESCR'])"
            ]
          },
          "metadata": {
            "tags": []
          },
          "execution_count": 2
        }
      ]
    },
    {
      "cell_type": "code",
      "metadata": {
        "colab": {
          "base_uri": "https://localhost:8080/"
        },
        "id": "94MUTFhmOzGO",
        "outputId": "b3489cea-32ee-4582-de23-7d105ce0166f"
      },
      "source": [
        "len(data.images)  ## total data in dataset"
      ],
      "execution_count": 3,
      "outputs": [
        {
          "output_type": "execute_result",
          "data": {
            "text/plain": [
              "1797"
            ]
          },
          "metadata": {
            "tags": []
          },
          "execution_count": 3
        }
      ]
    },
    {
      "cell_type": "code",
      "metadata": {
        "colab": {
          "base_uri": "https://localhost:8080/"
        },
        "id": "AfYJxMCeAHpo",
        "outputId": "07ef9978-630f-41e5-8891-62c2e0b13775"
      },
      "source": [
        "data.images[0]  ## 1st data from total 1,797 images"
      ],
      "execution_count": 4,
      "outputs": [
        {
          "output_type": "execute_result",
          "data": {
            "text/plain": [
              "array([[ 0.,  0.,  5., 13.,  9.,  1.,  0.,  0.],\n",
              "       [ 0.,  0., 13., 15., 10., 15.,  5.,  0.],\n",
              "       [ 0.,  3., 15.,  2.,  0., 11.,  8.,  0.],\n",
              "       [ 0.,  4., 12.,  0.,  0.,  8.,  8.,  0.],\n",
              "       [ 0.,  5.,  8.,  0.,  0.,  9.,  8.,  0.],\n",
              "       [ 0.,  4., 11.,  0.,  1., 12.,  7.,  0.],\n",
              "       [ 0.,  2., 14.,  5., 10., 12.,  0.,  0.],\n",
              "       [ 0.,  0.,  6., 13., 10.,  0.,  0.,  0.]])"
            ]
          },
          "metadata": {
            "tags": []
          },
          "execution_count": 4
        }
      ]
    },
    {
      "cell_type": "code",
      "metadata": {
        "colab": {
          "base_uri": "https://localhost:8080/",
          "height": 281
        },
        "id": "wC7g0mltAN1a",
        "outputId": "2cc3eb70-bab6-4c6e-ef8f-b3dd81ff9cbf"
      },
      "source": [
        "plt.imshow(data.images[0], cmap= plt.cm.gray_r)  ## show the image of 1st data\r\n",
        "plt.title(data.target[0])  ## show the target \r\n",
        "plt.show()"
      ],
      "execution_count": 5,
      "outputs": [
        {
          "output_type": "display_data",
          "data": {
            "image/png": "[encoded data removed]",
            "text/plain": [
              "<Figure size 432x288 with 1 Axes>"
            ]
          },
          "metadata": {
            "tags": [],
            "needs_background": "light"
          }
        }
      ]
    },
    {
      "cell_type": "code",
      "metadata": {
        "colab": {
          "base_uri": "https://localhost:8080/",
          "height": 307
        },
        "id": "64qINwLiAg-K",
        "outputId": "ae797d05-684f-44fa-9547-06fe3d5ea561"
      },
      "source": [
        "## show first 40 images \r\n",
        "nplots = 40\r\n",
        "plt.figure(figsize=(10, 5))\r\n",
        "\r\n",
        "for n in range(nplots):\r\n",
        "  plt.subplot(4, 10, n+1)\r\n",
        "  plt.imshow(data.images[n], cmap='binary')\r\n",
        "  plt.title(data.target[n])\r\n",
        "  plt.axis('off')\r\n",
        "plt.show()"
      ],
      "execution_count": 6,
      "outputs": [
        {
          "output_type": "display_data",
          "data": {
            "image/png": "[encoded data removed]",
            "text/plain": [
              "<Figure size 720x360 with 40 Axes>"
            ]
          },
          "metadata": {
            "tags": [],
            "needs_background": "light"
          }
        }
      ]
    },
    {
      "cell_type": "markdown",
      "metadata": {
        "id": "r5UuECgaOTZK"
      },
      "source": [
        "# Format the data"
      ]
    },
    {
      "cell_type": "code",
      "metadata": {
        "colab": {
          "base_uri": "https://localhost:8080/"
        },
        "id": "bGSafVWrTLA5",
        "outputId": "a2ebd66a-615c-4ef7-8ce1-20cfc9b2fba5"
      },
      "source": [
        "data.images.shape ## 1,797 images, first 8 is x-axis, second 8 is y-axis"
      ],
      "execution_count": 7,
      "outputs": [
        {
          "output_type": "execute_result",
          "data": {
            "text/plain": [
              "(1797, 8, 8)"
            ]
          },
          "metadata": {
            "tags": []
          },
          "execution_count": 7
        }
      ]
    },
    {
      "cell_type": "code",
      "metadata": {
        "id": "seFrsh2uCDd5",
        "colab": {
          "base_uri": "https://localhost:8080/"
        },
        "outputId": "30798f4b-4b8f-4ab2-a4a2-e60baeb0bda9"
      },
      "source": [
        "X = data.images.reshape(len(data.images), -1) ## reshape the data\r\n",
        "X.shape ## 1,797 row (images), 64 columns"
      ],
      "execution_count": 8,
      "outputs": [
        {
          "output_type": "execute_result",
          "data": {
            "text/plain": [
              "(1797, 64)"
            ]
          },
          "metadata": {
            "tags": []
          },
          "execution_count": 8
        }
      ]
    },
    {
      "cell_type": "code",
      "metadata": {
        "colab": {
          "base_uri": "https://localhost:8080/"
        },
        "id": "7RtFBimRTh28",
        "outputId": "5909fa86-7e6c-49f1-94cb-721ec7d0c5c3"
      },
      "source": [
        "print('First data before reshape')\r\n",
        "print(data.images[0]) ## show first data before reshape\r\n",
        "\r\n",
        "print('\\nFirst data after reshape')\r\n",
        "print(X[0]) ## show the first data after reshape"
      ],
      "execution_count": 9,
      "outputs": [
        {
          "output_type": "stream",
          "text": [
            "First data before reshape\n",
            "[[ 0.  0.  5. 13.  9.  1.  0.  0.]\n",
            " [ 0.  0. 13. 15. 10. 15.  5.  0.]\n",
            " [ 0.  3. 15.  2.  0. 11.  8.  0.]\n",
            " [ 0.  4. 12.  0.  0.  8.  8.  0.]\n",
            " [ 0.  5.  8.  0.  0.  9.  8.  0.]\n",
            " [ 0.  4. 11.  0.  1. 12.  7.  0.]\n",
            " [ 0.  2. 14.  5. 10. 12.  0.  0.]\n",
            " [ 0.  0.  6. 13. 10.  0.  0.  0.]]\n",
            "\n",
            "First data after reshape\n",
            "[ 0.  0.  5. 13.  9.  1.  0.  0.  0.  0. 13. 15. 10. 15.  5.  0.  0.  3.\n",
            " 15.  2.  0. 11.  8.  0.  0.  4. 12.  0.  0.  8.  8.  0.  0.  5.  8.  0.\n",
            "  0.  9.  8.  0.  0.  4. 11.  0.  1. 12.  7.  0.  0.  2. 14.  5. 10. 12.\n",
            "  0.  0.  0.  0.  6. 13. 10.  0.  0.  0.]\n"
          ],
          "name": "stdout"
        }
      ]
    },
    {
      "cell_type": "markdown",
      "metadata": {
        "id": "6vUaMfgHCp_Q"
      },
      "source": [
        "# Train Test "
      ]
    },
    {
      "cell_type": "code",
      "metadata": {
        "id": "kMfZum2WCimz"
      },
      "source": [
        "from sklearn.model_selection import train_test_split"
      ],
      "execution_count": 10,
      "outputs": []
    },
    {
      "cell_type": "code",
      "metadata": {
        "id": "3fhfWsDTCxy6"
      },
      "source": [
        "X_train, X_test, y_train, y_test = train_test_split(X, data.target, test_size=0.2, random_state= 12) ## train 80% test 20% seed=12"
      ],
      "execution_count": 11,
      "outputs": []
    },
    {
      "cell_type": "markdown",
      "metadata": {
        "id": "9MrE47YODLXe"
      },
      "source": [
        "# Model"
      ]
    },
    {
      "cell_type": "code",
      "metadata": {
        "id": "Lo3UbqbQDKus"
      },
      "source": [
        "from sklearn import svm  ## we will use Support Vector Machine"
      ],
      "execution_count": 12,
      "outputs": []
    },
    {
      "cell_type": "code",
      "metadata": {
        "colab": {
          "base_uri": "https://localhost:8080/"
        },
        "id": "ZaKMdo2yDQ1F",
        "outputId": "af4d28c1-b38c-47f6-beb1-1143892185b8"
      },
      "source": [
        "## create model \r\n",
        "model_svm = svm.SVC()\r\n",
        "model_svm.fit(X_train, y_train)"
      ],
      "execution_count": 13,
      "outputs": [
        {
          "output_type": "execute_result",
          "data": {
            "text/plain": [
              "SVC(C=1.0, break_ties=False, cache_size=200, class_weight=None, coef0=0.0,\n",
              "    decision_function_shape='ovr', degree=3, gamma='scale', kernel='rbf',\n",
              "    max_iter=-1, probability=False, random_state=None, shrinking=True,\n",
              "    tol=0.001, verbose=False)"
            ]
          },
          "metadata": {
            "tags": []
          },
          "execution_count": 13
        }
      ]
    },
    {
      "cell_type": "markdown",
      "metadata": {
        "id": "Jsl9xSMfDfYg"
      },
      "source": [
        "# Evaluate"
      ]
    },
    {
      "cell_type": "code",
      "metadata": {
        "id": "FIyy7Ib0DwQU"
      },
      "source": [
        "from sklearn.metrics import accuracy_score, classification_report, confusion_matrix"
      ],
      "execution_count": 14,
      "outputs": []
    },
    {
      "cell_type": "code",
      "metadata": {
        "colab": {
          "base_uri": "https://localhost:8080/"
        },
        "id": "Nfbcv7arDhts",
        "outputId": "998fd91a-2b1d-4fe7-8848-5d03f356a4bc"
      },
      "source": [
        "y_pred = model_svm.predict(X_test)  ## predict X_test by model\r\n",
        "\r\n",
        "print('Predict from model:', y_pred[0:10])  ## print first 10 predicted data\r\n",
        "print('Actury, it is:     ', y_test[0:10])  ## print first 10 actual data"
      ],
      "execution_count": 15,
      "outputs": [
        {
          "output_type": "stream",
          "text": [
            "Predict from model: [2 8 7 0 2 1 8 8 9 1]\n",
            "Actury, it is:      [2 8 7 0 2 1 8 8 9 1]\n"
          ],
          "name": "stdout"
        }
      ]
    },
    {
      "cell_type": "code",
      "metadata": {
        "colab": {
          "base_uri": "https://localhost:8080/"
        },
        "id": "KultE6BYD835",
        "outputId": "aee4d8d2-899b-4eff-8868-5472f726e899"
      },
      "source": [
        "print(classification_report(y_test, y_pred))  ## classification report\r\n",
        "print('Accuracy Score: {:.4}'.format(accuracy_score(y_test, y_pred)))  ## Accuracy score = 99.17% "
      ],
      "execution_count": 16,
      "outputs": [
        {
          "output_type": "stream",
          "text": [
            "              precision    recall  f1-score   support\n",
            "\n",
            "           0       1.00      1.00      1.00        37\n",
            "           1       1.00      1.00      1.00        32\n",
            "           2       1.00      1.00      1.00        38\n",
            "           3       1.00      1.00      1.00        43\n",
            "           4       1.00      0.97      0.99        39\n",
            "           5       1.00      0.94      0.97        34\n",
            "           6       1.00      1.00      1.00        29\n",
            "           7       1.00      1.00      1.00        42\n",
            "           8       1.00      1.00      1.00        32\n",
            "           9       0.92      1.00      0.96        34\n",
            "\n",
            "    accuracy                           0.99       360\n",
            "   macro avg       0.99      0.99      0.99       360\n",
            "weighted avg       0.99      0.99      0.99       360\n",
            "\n",
            "Accuracy Score: 0.9917\n"
          ],
          "name": "stdout"
        }
      ]
    },
    {
      "cell_type": "markdown",
      "metadata": {
        "id": "ZF4ohHLnSAUO"
      },
      "source": [
        "## Confusion Matrix"
      ]
    },
    {
      "cell_type": "code",
      "metadata": {
        "id": "TdKpRYsbWrJA"
      },
      "source": [
        "import seaborn as sns"
      ],
      "execution_count": 21,
      "outputs": []
    },
    {
      "cell_type": "code",
      "metadata": {
        "colab": {
          "base_uri": "https://localhost:8080/"
        },
        "id": "Ct24nyZgERrO",
        "outputId": "1965c48a-4772-4522-e969-3f6c08b2cc57"
      },
      "source": [
        "print(confusion_matrix(y_test, y_pred, labels= data.target_names))  ## confusion matrix: Row = Actual  Column = Predict"
      ],
      "execution_count": 17,
      "outputs": [
        {
          "output_type": "stream",
          "text": [
            "[[37  0  0  0  0  0  0  0  0  0]\n",
            " [ 0 32  0  0  0  0  0  0  0  0]\n",
            " [ 0  0 38  0  0  0  0  0  0  0]\n",
            " [ 0  0  0 43  0  0  0  0  0  0]\n",
            " [ 0  0  0  0 38  0  0  0  0  1]\n",
            " [ 0  0  0  0  0 32  0  0  0  2]\n",
            " [ 0  0  0  0  0  0 29  0  0  0]\n",
            " [ 0  0  0  0  0  0  0 42  0  0]\n",
            " [ 0  0  0  0  0  0  0  0 32  0]\n",
            " [ 0  0  0  0  0  0  0  0  0 34]]\n"
          ],
          "name": "stdout"
        }
      ]
    },
    {
      "cell_type": "code",
      "metadata": {
        "colab": {
          "base_uri": "https://localhost:8080/",
          "height": 295
        },
        "id": "Oe3JBaEpQvxe",
        "outputId": "2a91c691-646b-49ff-e9e1-76795adb513b"
      },
      "source": [
        "sns.heatmap(confusion_matrix(y_test, y_pred,), annot= True)\r\n",
        "plt.title('Confusion matrix')\r\n",
        "plt.ylabel('True label')\r\n",
        "plt.xlabel('Predicted label')\r\n",
        "plt.show()"
      ],
      "execution_count": 27,
      "outputs": [
        {
          "output_type": "display_data",
          "data": {
            "image/png": "[encoded data removed]",
            "text/plain": [
              "<Figure size 432x288 with 2 Axes>"
            ]
          },
          "metadata": {
            "tags": [],
            "needs_background": "light"
          }
        }
      ]
    },
    {
      "cell_type": "markdown",
      "metadata": {
        "id": "zmxzazxUSEFF"
      },
      "source": [
        "## Which data is wrong ?"
      ]
    },
    {
      "cell_type": "code",
      "metadata": {
        "colab": {
          "base_uri": "https://localhost:8080/"
        },
        "id": "Fwj3oo_kGwPa",
        "outputId": "870c904b-e612-40df-d9f8-fb2b3f623c21"
      },
      "source": [
        "missing_index = np.where(y_pred != y_test)  ## wrong prediction\r\n",
        "\r\n",
        "print('Mismatch:', missing_index)  ## location\r\n",
        "print('\\n Predict from model:', y_pred[missing_index])  ## prediction value\r\n",
        "print('Actually, it is    ', y_test[missing_index])  ## Actual value"
      ],
      "execution_count": 19,
      "outputs": [
        {
          "output_type": "stream",
          "text": [
            "Mismatch: (array([161, 212, 213]),)\n",
            "\n",
            " Predict from model: [9 9 9]\n",
            "Actually, it is     [5 5 4]\n"
          ],
          "name": "stdout"
        }
      ]
    },
    {
      "cell_type": "markdown",
      "metadata": {
        "id": "IO38dQL1SfQO"
      },
      "source": [
        "## Let visualize the wrong prediction images"
      ]
    },
    {
      "cell_type": "code",
      "metadata": {
        "colab": {
          "base_uri": "https://localhost:8080/",
          "height": 211
        },
        "id": "dAPsYMHYH9dk",
        "outputId": "391f5c59-80f1-4a30-9fe4-e998df06e609"
      },
      "source": [
        "plt.figure(figsize=(10,10))\r\n",
        "\r\n",
        "for i in range(len(missing_index[0])):\r\n",
        "  plt.subplot(1, 3, i+1)\r\n",
        "  plt.imshow(X_test[missing_index][i].reshape(8, 8), cmap= plt.cm.gray_r)\r\n",
        "  plt.title('Preidictino is {}, but Actual is {}'.format( y_pred[missing_index][i], y_test[missing_index][i]))\r\n",
        "  plt.axis('off')\r\n",
        "plt.show()"
      ],
      "execution_count": 20,
      "outputs": [
        {
          "output_type": "display_data",
          "data": {
            "image/png": "[encoded data removed]",
            "text/plain": [
              "<Figure size 720x720 with 3 Axes>"
            ]
          },
          "metadata": {
            "tags": [],
            "needs_background": "light"
          }
        }
      ]
    }
  ]
}