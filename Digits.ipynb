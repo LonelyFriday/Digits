{
  "nbformat": 4,
  "nbformat_minor": 0,
  "metadata": {
    "colab": {
      "name": "Digits.ipynb",
      "provenance": [],
      "collapsed_sections": [],
      "authorship_tag": "ABX9TyMckfLdm3ct9vBASxJRPR7G",
      "include_colab_link": true
    },
    "kernelspec": {
      "name": "python3",
      "display_name": "Python 3"
    }
  },
  "cells": [
    {
      "cell_type": "markdown",
      "metadata": {
        "id": "view-in-github",
        "colab_type": "text"
      },
      "source": [
        "<a href=\"https://colab.research.google.com/github/LonelyFriday/Digits/blob/main/Digits.ipynb\" target=\"_parent\"><img src=\"https://colab.research.google.com/assets/colab-badge.svg\" alt=\"Open In Colab\"/></a>"
      ]
    },
    {
      "cell_type": "code",
      "metadata": {
        "id": "YDpuLaDS_Qwk"
      },
      "source": [
        "import pandas as pd\r\n",
        "import numpy as np\r\n",
        "import matplotlib.pyplot as plt\r\n",
        "\r\n",
        "from sklearn.datasets import load_digits"
      ],
      "execution_count": null,
      "outputs": []
    },
    {
      "cell_type": "markdown",
      "metadata": {
        "id": "bc5DNTtVOOON"
      },
      "source": [
        "# Digits Data"
      ]
    },
    {
      "cell_type": "code",
      "metadata": {
        "colab": {
          "base_uri": "https://localhost:8080/"
        },
        "id": "FiRmSLVP_mXz",
        "outputId": "602d0ba7-9ecd-40b1-ea82-f8678da7dbb4"
      },
      "source": [
        "data = load_digits()  ## load dataset\r\n",
        "data.keys()  ## keys"
      ],
      "execution_count": null,
      "outputs": [
        {
          "output_type": "execute_result",
          "data": {
            "text/plain": [
              "dict_keys(['data', 'target', 'target_names', 'images', 'DESCR'])"
            ]
          },
          "metadata": {
            "tags": []
          },
          "execution_count": 2
        }
      ]
    },
    {
      "cell_type": "code",
      "metadata": {
        "colab": {
          "base_uri": "https://localhost:8080/"
        },
        "id": "94MUTFhmOzGO",
        "outputId": "04fb3b33-d79c-424b-d544-2b7b2983925a"
      },
      "source": [
        "len(data.images)  ## total data in dataset"
      ],
      "execution_count": null,
      "outputs": [
        {
          "output_type": "execute_result",
          "data": {
            "text/plain": [
              "1797"
            ]
          },
          "metadata": {
            "tags": []
          },
          "execution_count": 76
        }
      ]
    },
    {
      "cell_type": "code",
      "metadata": {
        "colab": {
          "base_uri": "https://localhost:8080/"
        },
        "id": "AfYJxMCeAHpo",
        "outputId": "c6aacf9c-ecd5-40fc-c527-f445b89aa081"
      },
      "source": [
        "data.images[0]  ## 1st data from total 1,797 images"
      ],
      "execution_count": null,
      "outputs": [
        {
          "output_type": "execute_result",
          "data": {
            "text/plain": [
              "array([[ 0.,  0.,  5., 13.,  9.,  1.,  0.,  0.],\n",
              "       [ 0.,  0., 13., 15., 10., 15.,  5.,  0.],\n",
              "       [ 0.,  3., 15.,  2.,  0., 11.,  8.,  0.],\n",
              "       [ 0.,  4., 12.,  0.,  0.,  8.,  8.,  0.],\n",
              "       [ 0.,  5.,  8.,  0.,  0.,  9.,  8.,  0.],\n",
              "       [ 0.,  4., 11.,  0.,  1., 12.,  7.,  0.],\n",
              "       [ 0.,  2., 14.,  5., 10., 12.,  0.,  0.],\n",
              "       [ 0.,  0.,  6., 13., 10.,  0.,  0.,  0.]])"
            ]
          },
          "metadata": {
            "tags": []
          },
          "execution_count": 4
        }
      ]
    },
    {
      "cell_type": "code",
      "metadata": {
        "colab": {
          "base_uri": "https://localhost:8080/",
          "height": 281
        },
        "id": "wC7g0mltAN1a",
        "outputId": "2c79d1ad-9f24-4911-c9fe-a83a05c0e7f4"
      },
      "source": [
        "plt.imshow(data.images[0], cmap= plt.cm.gray_r)  ## show the image of 1st data\r\n",
        "plt.title(data.target[0])  ## show the target \r\n",
        "plt.show()"
      ],
      "execution_count": null,
      "outputs": [
        {
          "output_type": "display_data",
          "data": {
            "image/png": "[encoded data removed]",
            "text/plain": [
              "<Figure size 432x288 with 1 Axes>"
            ]
          },
          "metadata": {
            "tags": [],
            "needs_background": "light"
          }
        }
      ]
    },
    {
      "cell_type": "code",
      "metadata": {
        "colab": {
          "base_uri": "https://localhost:8080/",
          "height": 307
        },
        "id": "64qINwLiAg-K",
        "outputId": "d9644c66-d68c-48f0-f5c4-a458551f1a37"
      },
      "source": [
        "## show first 40 images \r\n",
        "nplots = 40\r\n",
        "plt.figure(figsize=(10, 5))\r\n",
        "\r\n",
        "for n in range(nplots):\r\n",
        "  plt.subplot(4, 10, n+1)\r\n",
        "  plt.imshow(data.images[n], cmap='binary')\r\n",
        "  plt.title(data.target[n])\r\n",
        "  plt.axis('off')\r\n",
        "plt.show()"
      ],
      "execution_count": null,
      "outputs": [
        {
          "output_type": "display_data",
          "data": {
            "image/png": "[encoded data removed]",
            "text/plain": [
              "<Figure size 720x360 with 40 Axes>"
            ]
          },
          "metadata": {
            "tags": [],
            "needs_background": "light"
          }
        }
      ]
    },
    {
      "cell_type": "markdown",
      "metadata": {
        "id": "r5UuECgaOTZK"
      },
      "source": [
        "# Format the data"
      ]
    },
    {
      "cell_type": "code",
      "metadata": {
        "colab": {
          "base_uri": "https://localhost:8080/"
        },
        "id": "bGSafVWrTLA5",
        "outputId": "8fe09b3c-de2e-448f-f8db-b1957cc1ab8f"
      },
      "source": [
        "data.images.shape ## 1,797 images, first 8 is x-axis, second 8 is y-axis"
      ],
      "execution_count": null,
      "outputs": [
        {
          "output_type": "execute_result",
          "data": {
            "text/plain": [
              "(1797, 8, 8)"
            ]
          },
          "metadata": {
            "tags": []
          },
          "execution_count": 99
        }
      ]
    },
    {
      "cell_type": "code",
      "metadata": {
        "id": "seFrsh2uCDd5",
        "colab": {
          "base_uri": "https://localhost:8080/"
        },
        "outputId": "6454ef7d-e58a-445c-854d-9c976dd7ac9b"
      },
      "source": [
        "X = data.images.reshape(len(data.images), -1) ## reshape the data\r\n",
        "X.shape ## 1,797 row (images), 64 columns"
      ],
      "execution_count": null,
      "outputs": [
        {
          "output_type": "execute_result",
          "data": {
            "text/plain": [
              "(1797, 64)"
            ]
          },
          "metadata": {
            "tags": []
          },
          "execution_count": 100
        }
      ]
    },
    {
      "cell_type": "code",
      "metadata": {
        "colab": {
          "base_uri": "https://localhost:8080/"
        },
        "id": "7RtFBimRTh28",
        "outputId": "ee0af113-8d93-488a-cd90-926da8bcb5ed"
      },
      "source": [
        "print('First data before reshape')\r\n",
        "print(data.images[0]) ## show first data before reshape\r\n",
        "\r\n",
        "print('\\nFirst data after reshape')\r\n",
        "print(X[0]) ## show the first data after reshape"
      ],
      "execution_count": null,
      "outputs": [
        {
          "output_type": "stream",
          "text": [
            "First data before reshape\n",
            "[[ 0.  0.  5. 13.  9.  1.  0.  0.]\n",
            " [ 0.  0. 13. 15. 10. 15.  5.  0.]\n",
            " [ 0.  3. 15.  2.  0. 11.  8.  0.]\n",
            " [ 0.  4. 12.  0.  0.  8.  8.  0.]\n",
            " [ 0.  5.  8.  0.  0.  9.  8.  0.]\n",
            " [ 0.  4. 11.  0.  1. 12.  7.  0.]\n",
            " [ 0.  2. 14.  5. 10. 12.  0.  0.]\n",
            " [ 0.  0.  6. 13. 10.  0.  0.  0.]]\n",
            "\n",
            "First data after reshape\n",
            "[ 0.  0.  5. 13.  9.  1.  0.  0.  0.  0. 13. 15. 10. 15.  5.  0.  0.  3.\n",
            " 15.  2.  0. 11.  8.  0.  0.  4. 12.  0.  0.  8.  8.  0.  0.  5.  8.  0.\n",
            "  0.  9.  8.  0.  0.  4. 11.  0.  1. 12.  7.  0.  0.  2. 14.  5. 10. 12.\n",
            "  0.  0.  0.  0.  6. 13. 10.  0.  0.  0.]\n"
          ],
          "name": "stdout"
        }
      ]
    },
    {
      "cell_type": "markdown",
      "metadata": {
        "id": "6vUaMfgHCp_Q"
      },
      "source": [
        "# Train Test "
      ]
    },
    {
      "cell_type": "code",
      "metadata": {
        "id": "kMfZum2WCimz"
      },
      "source": [
        "from sklearn.model_selection import train_test_split"
      ],
      "execution_count": null,
      "outputs": []
    },
    {
      "cell_type": "code",
      "metadata": {
        "id": "3fhfWsDTCxy6"
      },
      "source": [
        "X_train, X_test, y_train, y_test = train_test_split(X, data.target, test_size=0.2, random_state= 12) ## train 80% test 20% seed=12"
      ],
      "execution_count": null,
      "outputs": []
    },
    {
      "cell_type": "markdown",
      "metadata": {
        "id": "9MrE47YODLXe"
      },
      "source": [
        "# Model"
      ]
    },
    {
      "cell_type": "code",
      "metadata": {
        "id": "Lo3UbqbQDKus"
      },
      "source": [
        "from sklearn import svm  ## we will use Support Vector Machine"
      ],
      "execution_count": null,
      "outputs": []
    },
    {
      "cell_type": "code",
      "metadata": {
        "colab": {
          "base_uri": "https://localhost:8080/"
        },
        "id": "ZaKMdo2yDQ1F",
        "outputId": "07a9b6b3-c5e3-44be-accb-842a979a41bd"
      },
      "source": [
        "## create model \r\n",
        "model_svm = svm.SVC()\r\n",
        "model_svm.fit(X_train, y_train)"
      ],
      "execution_count": null,
      "outputs": [
        {
          "output_type": "execute_result",
          "data": {
            "text/plain": [
              "SVC(C=1.0, break_ties=False, cache_size=200, class_weight=None, coef0=0.0,\n",
              "    decision_function_shape='ovr', degree=3, gamma='scale', kernel='rbf',\n",
              "    max_iter=-1, probability=False, random_state=None, shrinking=True,\n",
              "    tol=0.001, verbose=False)"
            ]
          },
          "metadata": {
            "tags": []
          },
          "execution_count": 60
        }
      ]
    },
    {
      "cell_type": "markdown",
      "metadata": {
        "id": "Jsl9xSMfDfYg"
      },
      "source": [
        "# Evaluate"
      ]
    },
    {
      "cell_type": "code",
      "metadata": {
        "id": "FIyy7Ib0DwQU"
      },
      "source": [
        "from sklearn.metrics import accuracy_score, classification_report, confusion_matrix"
      ],
      "execution_count": null,
      "outputs": []
    },
    {
      "cell_type": "code",
      "metadata": {
        "colab": {
          "base_uri": "https://localhost:8080/"
        },
        "id": "Nfbcv7arDhts",
        "outputId": "545e75d4-f6e0-464b-d8d7-99dff2f46255"
      },
      "source": [
        "y_pred = model_svm.predict(X_test)  ## predict X_test by model\r\n",
        "\r\n",
        "print('Predict from model:', y_pred[0:10])  ## print first 10 predicted data\r\n",
        "print('Actury, it is:     ', y_test[0:10])  ## print first 10 actual data"
      ],
      "execution_count": null,
      "outputs": [
        {
          "output_type": "stream",
          "text": [
            "Predict from model: [2 8 7 0 2 1 8 8 9 1]\n",
            "Actury, it is:      [2 8 7 0 2 1 8 8 9 1]\n"
          ],
          "name": "stdout"
        }
      ]
    },
    {
      "cell_type": "code",
      "metadata": {
        "colab": {
          "base_uri": "https://localhost:8080/"
        },
        "id": "KultE6BYD835",
        "outputId": "b6bf0627-7400-48da-c576-fc96d6919487"
      },
      "source": [
        "print(classification_report(y_test, y_pred))  ## classification report\r\n",
        "print('Accuracy Score: {:.4}'.format(accuracy_score(y_test, y_pred)))  ## Accuracy score = 99.17% "
      ],
      "execution_count": null,
      "outputs": [
        {
          "output_type": "stream",
          "text": [
            "              precision    recall  f1-score   support\n",
            "\n",
            "           0       1.00      1.00      1.00        37\n",
            "           1       1.00      1.00      1.00        32\n",
            "           2       1.00      1.00      1.00        38\n",
            "           3       1.00      1.00      1.00        43\n",
            "           4       1.00      0.97      0.99        39\n",
            "           5       1.00      0.94      0.97        34\n",
            "           6       1.00      1.00      1.00        29\n",
            "           7       1.00      1.00      1.00        42\n",
            "           8       1.00      1.00      1.00        32\n",
            "           9       0.92      1.00      0.96        34\n",
            "\n",
            "    accuracy                           0.99       360\n",
            "   macro avg       0.99      0.99      0.99       360\n",
            "weighted avg       0.99      0.99      0.99       360\n",
            "\n",
            "Accuracy Score: 0.9917\n"
          ],
          "name": "stdout"
        }
      ]
    },
    {
      "cell_type": "markdown",
      "metadata": {
        "id": "ZF4ohHLnSAUO"
      },
      "source": [
        "## Confusion Matrix"
      ]
    },
    {
      "cell_type": "code",
      "metadata": {
        "colab": {
          "base_uri": "https://localhost:8080/"
        },
        "id": "Ct24nyZgERrO",
        "outputId": "9954f77c-5b40-424f-d318-f9b92605ae58"
      },
      "source": [
        "print(confusion_matrix(y_test, y_pred, labels= data.target_names))  ## confusion matrix: Row = Actual  Column = Predict"
      ],
      "execution_count": null,
      "outputs": [
        {
          "output_type": "stream",
          "text": [
            "[[37  0  0  0  0  0  0  0  0  0]\n",
            " [ 0 32  0  0  0  0  0  0  0  0]\n",
            " [ 0  0 38  0  0  0  0  0  0  0]\n",
            " [ 0  0  0 43  0  0  0  0  0  0]\n",
            " [ 0  0  0  0 38  0  0  0  0  1]\n",
            " [ 0  0  0  0  0 32  0  0  0  2]\n",
            " [ 0  0  0  0  0  0 29  0  0  0]\n",
            " [ 0  0  0  0  0  0  0 42  0  0]\n",
            " [ 0  0  0  0  0  0  0  0 32  0]\n",
            " [ 0  0  0  0  0  0  0  0  0 34]]\n"
          ],
          "name": "stdout"
        }
      ]
    },
    {
      "cell_type": "code",
      "metadata": {
        "colab": {
          "base_uri": "https://localhost:8080/",
          "height": 281
        },
        "id": "Oe3JBaEpQvxe",
        "outputId": "de2d765a-d4a4-4d6b-cf6f-ce53eb6be734"
      },
      "source": [
        "plt.matshow(confusion_matrix(y_test, y_pred, labels= data.target_names))\r\n",
        "plt.title('Confusion matrix')\r\n",
        "plt.colorbar()\r\n",
        "plt.ylabel('True label')\r\n",
        "plt.xlabel('Predicted label')\r\n",
        "plt.show()"
      ],
      "execution_count": null,
      "outputs": [
        {
          "output_type": "display_data",
          "data": {
            "text/plain": [
              "<Figure size 2880x2880 with 0 Axes>"
            ]
          },
          "metadata": {
            "tags": []
          }
        },
        {
          "output_type": "display_data",
          "data": {
            "image/png": "[encoded data removed]",
            "text/plain": [
              "<Figure size 288x288 with 2 Axes>"
            ]
          },
          "metadata": {
            "tags": [],
            "needs_background": "light"
          }
        }
      ]
    },
    {
      "cell_type": "markdown",
      "metadata": {
        "id": "zmxzazxUSEFF"
      },
      "source": [
        "## Which data is wrong ?"
      ]
    },
    {
      "cell_type": "code",
      "metadata": {
        "colab": {
          "base_uri": "https://localhost:8080/"
        },
        "id": "Fwj3oo_kGwPa",
        "outputId": "7e4f6837-2145-4515-8467-81985081d3c3"
      },
      "source": [
        "missing_index = np.where(y_pred != y_test)  ## wrong prediction\r\n",
        "\r\n",
        "print('Mismatch:', missing_index)  ## location\r\n",
        "print('\\n Predict from model:', y_pred[missing_index])  ## prediction value\r\n",
        "print('Actually, it is    ', y_test[missing_index])  ## Actual value"
      ],
      "execution_count": null,
      "outputs": [
        {
          "output_type": "stream",
          "text": [
            "Mismatch: (array([161, 212, 213]),)\n",
            "\n",
            "Predict from model: [9 9 9]\n",
            "Actually, it is     [5 5 4]\n"
          ],
          "name": "stdout"
        }
      ]
    },
    {
      "cell_type": "markdown",
      "metadata": {
        "id": "IO38dQL1SfQO"
      },
      "source": [
        "## Let visualize the wrong prediction images"
      ]
    },
    {
      "cell_type": "code",
      "metadata": {
        "colab": {
          "base_uri": "https://localhost:8080/",
          "height": 211
        },
        "id": "dAPsYMHYH9dk",
        "outputId": "104d03c6-1021-4674-eb76-327e975d73e6"
      },
      "source": [
        "plt.figure(figsize=(10,10))\r\n",
        "\r\n",
        "for i in range(len(missing_index[0])):\r\n",
        "  plt.subplot(1, 3, i+1)\r\n",
        "  plt.imshow(X_test[missing_index][i].reshape(8, 8), cmap= plt.cm.gray_r)\r\n",
        "  plt.title('Preidictino is {}, but Actual is {}'.format( y_pred[missing_index][i], y_test[missing_index][i]))\r\n",
        "  plt.axis('off')\r\n",
        "plt.show()"
      ],
      "execution_count": null,
      "outputs": [
        {
          "output_type": "display_data",
          "data": {
            "image/png": "[encoded data removed]",
            "text/plain": [
              "<Figure size 720x720 with 3 Axes>"
            ]
          },
          "metadata": {
            "tags": [],
            "needs_background": "light"
          }
        }
      ]
    }
  ]
}
